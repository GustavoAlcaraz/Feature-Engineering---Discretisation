{
 "cells": [
  {
   "cell_type": "markdown",
   "metadata": {},
   "source": [
    "## Discretisation\n",
    "\n",
    "Discretisation is the process of transforming continuous variables into discrete variables by creating a set of contiguous intervals that span the range of the variable's values. Discretisation is also called **binning**, where bin is an alternative name for interval.\n",
    "\n",
    "\n",
    "### Discretisation helps handle outliers and may improve value spread in skewed variables\n",
    "\n",
    "Discretisation helps handle outliers by placing these values into the lower or higher intervals, together with the remaining inlier values of the distribution. Thus, these outlier observations no longer differ from the rest of the values at the tails of the distribution, as they are now all together in the same interval / bucket. In addition, by creating appropriate bins or intervals, discretisation can help spread the values of a skewed variable across a set of bins with equal number of observations.\n",
    "\n",
    "\n",
    "### Discretisation approaches\n",
    "\n",
    "There are several approaches to transform continuous variables into discrete ones. Discretisation methods fall into 2 categories: **supervised and unsupervised**. Unsupervised methods do not use any information, other than the variable distribution, to create the contiguous bins in which the values will be placed. Supervised methods typically use target information in order to create the bins or intervals.\n",
    "\n",
    "\n",
    "####  Unsupervised discretisation methods\n",
    "\n",
    "- Equal width discretisation\n",
    "- Equal frequency discretisation\n",
    "- K-means discretisation\n",
    "\n",
    "#### Supervised discretisation methods\n",
    "\n",
    "- Discretisation using decision trees\n",
    "\n",
    "\n",
    "In this lecture, I will describe **equal width discretisation**.\n",
    "\n",
    "\n",
    "## Equal width discretisation\n",
    "\n",
    "Equal width discretisation divides the scope of possible values into N bins of the same width.The width is determined by the range of values in the variable and the number of bins we wish to use to divide the variable:\n",
    "\n",
    "width = (max value - min value) / N\n",
    "\n",
    "where N is the number of bins or intervals.\n",
    "\n",
    "For example if the values of the variable vary between 0 and 100, we create 5 bins like this: width = (100-0) / 5 = 20. The bins thus are 0-20, 20-40, 40-60, 80-100. The first and final bins (0-20 and 80-100) can be expanded to accommodate outliers (that is, values under 0 or greater than 100 would be placed in those bins as well).\n",
    "\n",
    "There is no rule of thumb to define N, that is something to determine experimentally.\n",
    "\n",
    "## In this demo\n",
    "\n",
    "We will learn how to perform equal width binning using:\n",
    "\n",
    "- pandas and NumPy\n",
    "- Feature-engine\n",
    "- Scikit-learn"
   ]
  },
  {
   "cell_type": "code",
   "execution_count": 1,
   "metadata": {},
   "outputs": [],
   "source": [
    "import pandas as pd\n",
    "import numpy as np\n",
    "\n",
    "import matplotlib.pyplot as plt\n",
    "\n",
    "from sklearn.model_selection import train_test_split\n",
    "\n",
    "from sklearn.preprocessing import KBinsDiscretizer\n",
    "\n",
    "from feature_engine.discretisers import EqualWidthDiscretiser"
   ]
  },
  {
   "cell_type": "markdown",
   "metadata": {},
   "source": [
    "   This dataset is a slightly modified version of the dataset provided in\n",
    "   the StatLib library.  In line with the use by Ross Quinlan (1993) in\n",
    "   predicting the attribute \"mpg\", 8 of the original instances were removed \n",
    "   because they had unknown values for the \"mpg\" attribute.  The original \n",
    "   dataset is available in the file \"auto-mpg.data-original\".\n",
    "\n",
    "   \"The data concerns city-cycle fuel consumption in miles per gallon,\n",
    "    to be predicted in terms of 3 multivalued discrete and 5 continuous\n",
    "    attributes.\" (Quinlan, 1993)"
   ]
  },
  {
   "cell_type": "code",
   "execution_count": 2,
   "metadata": {},
   "outputs": [],
   "source": [
    "data_raw = pd.read_csv('C://Users/gusal/machine learning/Feature engineering/auto-mpg_rev1.csv')"
   ]
  },
  {
   "cell_type": "code",
   "execution_count": 21,
   "metadata": {},
   "outputs": [
    {
     "data": {
      "text/html": [
       "<div>\n",
       "<style scoped>\n",
       "    .dataframe tbody tr th:only-of-type {\n",
       "        vertical-align: middle;\n",
       "    }\n",
       "\n",
       "    .dataframe tbody tr th {\n",
       "        vertical-align: top;\n",
       "    }\n",
       "\n",
       "    .dataframe thead th {\n",
       "        text-align: right;\n",
       "    }\n",
       "</style>\n",
       "<table border=\"1\" class=\"dataframe\">\n",
       "  <thead>\n",
       "    <tr style=\"text-align: right;\">\n",
       "      <th></th>\n",
       "      <th>mpg</th>\n",
       "      <th>cylinders</th>\n",
       "      <th>displacement</th>\n",
       "      <th>horsepower</th>\n",
       "      <th>weight</th>\n",
       "      <th>acceleration</th>\n",
       "      <th>model year</th>\n",
       "      <th>origin</th>\n",
       "    </tr>\n",
       "  </thead>\n",
       "  <tbody>\n",
       "    <tr>\n",
       "      <th>0</th>\n",
       "      <td>18.0</td>\n",
       "      <td>8</td>\n",
       "      <td>307.0</td>\n",
       "      <td>130.0</td>\n",
       "      <td>3504.0</td>\n",
       "      <td>12.0</td>\n",
       "      <td>70</td>\n",
       "      <td>1</td>\n",
       "    </tr>\n",
       "    <tr>\n",
       "      <th>1</th>\n",
       "      <td>16.0</td>\n",
       "      <td>8</td>\n",
       "      <td>304.0</td>\n",
       "      <td>150.0</td>\n",
       "      <td>3433.0</td>\n",
       "      <td>12.0</td>\n",
       "      <td>70</td>\n",
       "      <td>1</td>\n",
       "    </tr>\n",
       "    <tr>\n",
       "      <th>2</th>\n",
       "      <td>15.0</td>\n",
       "      <td>8</td>\n",
       "      <td>429.0</td>\n",
       "      <td>198.0</td>\n",
       "      <td>4341.0</td>\n",
       "      <td>10.0</td>\n",
       "      <td>70</td>\n",
       "      <td>1</td>\n",
       "    </tr>\n",
       "    <tr>\n",
       "      <th>3</th>\n",
       "      <td>14.0</td>\n",
       "      <td>8</td>\n",
       "      <td>454.0</td>\n",
       "      <td>220.0</td>\n",
       "      <td>4354.0</td>\n",
       "      <td>9.0</td>\n",
       "      <td>70</td>\n",
       "      <td>1</td>\n",
       "    </tr>\n",
       "    <tr>\n",
       "      <th>4</th>\n",
       "      <td>14.0</td>\n",
       "      <td>8</td>\n",
       "      <td>440.0</td>\n",
       "      <td>215.0</td>\n",
       "      <td>4312.0</td>\n",
       "      <td>8.5</td>\n",
       "      <td>70</td>\n",
       "      <td>1</td>\n",
       "    </tr>\n",
       "  </tbody>\n",
       "</table>\n",
       "</div>"
      ],
      "text/plain": [
       "    mpg  cylinders  displacement  horsepower  weight  acceleration  \\\n",
       "0  18.0          8         307.0       130.0  3504.0          12.0   \n",
       "1  16.0          8         304.0       150.0  3433.0          12.0   \n",
       "2  15.0          8         429.0       198.0  4341.0          10.0   \n",
       "3  14.0          8         454.0       220.0  4354.0           9.0   \n",
       "4  14.0          8         440.0       215.0  4312.0           8.5   \n",
       "\n",
       "   model year  origin  \n",
       "0          70       1  \n",
       "1          70       1  \n",
       "2          70       1  \n",
       "3          70       1  \n",
       "4          70       1  "
      ]
     },
     "execution_count": 21,
     "metadata": {},
     "output_type": "execute_result"
    }
   ],
   "source": [
    "\n",
    "data_raw.head(5)"
   ]
  },
  {
   "cell_type": "code",
   "execution_count": 4,
   "metadata": {},
   "outputs": [
    {
     "data": {
      "text/plain": [
       "mpg             0\n",
       "cylinders       0\n",
       "displacement    0\n",
       "horsepower      0\n",
       "weight          0\n",
       "acceleration    0\n",
       "model year      0\n",
       "origin          0\n",
       "dtype: int64"
      ]
     },
     "execution_count": 4,
     "metadata": {},
     "output_type": "execute_result"
    }
   ],
   "source": [
    "data_raw.isnull().sum()"
   ]
  },
  {
   "cell_type": "code",
   "execution_count": 5,
   "metadata": {},
   "outputs": [
    {
     "data": {
      "text/plain": [
       "mpg             float64\n",
       "cylinders         int64\n",
       "displacement    float64\n",
       "horsepower      float64\n",
       "weight          float64\n",
       "acceleration    float64\n",
       "model year        int64\n",
       "origin            int64\n",
       "dtype: object"
      ]
     },
     "execution_count": 5,
     "metadata": {},
     "output_type": "execute_result"
    }
   ],
   "source": [
    "data_raw.dtypes"
   ]
  },
  {
   "cell_type": "code",
   "execution_count": 7,
   "metadata": {},
   "outputs": [],
   "source": [
    "inputs = data_raw.drop(['mpg'], axis = 1)\n",
    "target = data_raw.mpg"
   ]
  },
  {
   "cell_type": "code",
   "execution_count": 8,
   "metadata": {},
   "outputs": [
    {
     "data": {
      "text/plain": [
       "((247, 7), (106, 7))"
      ]
     },
     "execution_count": 8,
     "metadata": {},
     "output_type": "execute_result"
    }
   ],
   "source": [
    "# Let's separate into train and test set\n",
    "\n",
    "X_train, X_test, y_train, y_test = train_test_split(\n",
    "    inputs,\n",
    "    target,\n",
    "    test_size=0.3,\n",
    "    random_state=0)\n",
    "\n",
    "X_train.shape, X_test.shape"
   ]
  },
  {
   "cell_type": "code",
   "execution_count": 11,
   "metadata": {},
   "outputs": [
    {
     "data": {
      "image/png": "[encoded data removed]",
      "text/plain": [
       "<Figure size 576x576 with 9 Axes>"
      ]
     },
     "metadata": {
      "needs_background": "light"
     },
     "output_type": "display_data"
    }
   ],
   "source": [
    "# let's explore the distribution of the numerical variables\n",
    "\n",
    "inputs.hist(figsize=(8,8))\n",
    "plt.show()"
   ]
  },
  {
   "cell_type": "markdown",
   "metadata": {},
   "source": [
    "## Equal width discretisation with pandas and NumPy\n",
    "\n",
    "First we need to determine the intervals' edges or limits."
   ]
  },
  {
   "cell_type": "code",
   "execution_count": 12,
   "metadata": {
    "scrolled": true
   },
   "outputs": [
    {
     "data": {
      "text/plain": [
       "3491.0"
      ]
     },
     "execution_count": 12,
     "metadata": {},
     "output_type": "execute_result"
    }
   ],
   "source": [
    "# let's capture the range of the variable weight\n",
    "\n",
    "weight_range = X_train['weight'].max() - X_train['weight'].min()\n",
    "\n",
    "weight_range"
   ]
  },
  {
   "cell_type": "code",
   "execution_count": 13,
   "metadata": {},
   "outputs": [
    {
     "data": {
      "text/plain": [
       "349.1"
      ]
     },
     "execution_count": 13,
     "metadata": {},
     "output_type": "execute_result"
    }
   ],
   "source": [
    "# let's divide the range into 10 equal width bins\n",
    "\n",
    "weight_range / 10"
   ]
  },
  {
   "cell_type": "markdown",
   "metadata": {},
   "source": [
    "The range or width of our intervals will be 349."
   ]
  },
  {
   "cell_type": "code",
   "execution_count": 14,
   "metadata": {},
   "outputs": [
    {
     "data": {
      "text/plain": [
       "(1649, 5140, 349)"
      ]
     },
     "execution_count": 14,
     "metadata": {},
     "output_type": "execute_result"
    }
   ],
   "source": [
    "# now let's capture the lower and upper boundaries\n",
    "\n",
    "min_value = int(np.floor( X_train['weight'].min()))\n",
    "max_value = int(np.ceil( X_train['weight'].max()))\n",
    "\n",
    "# let's round the bin width\n",
    "inter_value = int(np.round(weight_range / 10))\n",
    "\n",
    "min_value, max_value, inter_value"
   ]
  },
  {
   "cell_type": "code",
   "execution_count": 15,
   "metadata": {
    "scrolled": false
   },
   "outputs": [
    {
     "data": {
      "text/plain": [
       "[1649, 1998, 2347, 2696, 3045, 3394, 3743, 4092, 4441, 4790, 5139, 5488]"
      ]
     },
     "execution_count": 15,
     "metadata": {},
     "output_type": "execute_result"
    }
   ],
   "source": [
    "# let's capture the interval limits, so we can pass them to the pandas cut \n",
    "# function to generate the bins\n",
    "\n",
    "intervals = [i for i in range(min_value, max_value+inter_value, inter_value)]\n",
    "\n",
    "intervals"
   ]
  },
  {
   "cell_type": "code",
   "execution_count": 16,
   "metadata": {},
   "outputs": [
    {
     "data": {
      "text/plain": [
       "['Bin_1',\n",
       " 'Bin_2',\n",
       " 'Bin_3',\n",
       " 'Bin_4',\n",
       " 'Bin_5',\n",
       " 'Bin_6',\n",
       " 'Bin_7',\n",
       " 'Bin_8',\n",
       " 'Bin_9',\n",
       " 'Bin_10',\n",
       " 'Bin_11']"
      ]
     },
     "execution_count": 16,
     "metadata": {},
     "output_type": "execute_result"
    }
   ],
   "source": [
    "# let's make labels to label the different bins\n",
    "\n",
    "labels = ['Bin_' + str(i) for i in range(1, len(intervals))]\n",
    "\n",
    "labels"
   ]
  },
  {
   "cell_type": "code",
   "execution_count": 17,
   "metadata": {},
   "outputs": [
    {
     "name": "stderr",
     "output_type": "stream",
     "text": [
      "C:\\Users\\gusal\\Anaconda3\\lib\\site-packages\\ipykernel_launcher.py:7: SettingWithCopyWarning: \n",
      "A value is trying to be set on a copy of a slice from a DataFrame.\n",
      "Try using .loc[row_indexer,col_indexer] = value instead\n",
      "\n",
      "See the caveats in the documentation: https://pandas.pydata.org/pandas-docs/stable/user_guide/indexing.html#returning-a-view-versus-a-copy\n",
      "  import sys\n",
      "C:\\Users\\gusal\\Anaconda3\\lib\\site-packages\\ipykernel_launcher.py:12: SettingWithCopyWarning: \n",
      "A value is trying to be set on a copy of a slice from a DataFrame.\n",
      "Try using .loc[row_indexer,col_indexer] = value instead\n",
      "\n",
      "See the caveats in the documentation: https://pandas.pydata.org/pandas-docs/stable/user_guide/indexing.html#returning-a-view-versus-a-copy\n",
      "  if sys.path[0] == '':\n"
     ]
    },
    {
     "data": {
      "text/html": [
       "<div>\n",
       "<style scoped>\n",
       "    .dataframe tbody tr th:only-of-type {\n",
       "        vertical-align: middle;\n",
       "    }\n",
       "\n",
       "    .dataframe tbody tr th {\n",
       "        vertical-align: top;\n",
       "    }\n",
       "\n",
       "    .dataframe thead th {\n",
       "        text-align: right;\n",
       "    }\n",
       "</style>\n",
       "<table border=\"1\" class=\"dataframe\">\n",
       "  <thead>\n",
       "    <tr style=\"text-align: right;\">\n",
       "      <th></th>\n",
       "      <th>cylinders</th>\n",
       "      <th>displacement</th>\n",
       "      <th>horsepower</th>\n",
       "      <th>weight</th>\n",
       "      <th>acceleration</th>\n",
       "      <th>model year</th>\n",
       "      <th>origin</th>\n",
       "      <th>weight_disc_labels</th>\n",
       "      <th>weight_disc</th>\n",
       "    </tr>\n",
       "  </thead>\n",
       "  <tbody>\n",
       "    <tr>\n",
       "      <th>224</th>\n",
       "      <td>6</td>\n",
       "      <td>258.0</td>\n",
       "      <td>120.0</td>\n",
       "      <td>3410.0</td>\n",
       "      <td>15.1</td>\n",
       "      <td>78</td>\n",
       "      <td>1</td>\n",
       "      <td>Bin_6</td>\n",
       "      <td>(3394.0, 3743.0]</td>\n",
       "    </tr>\n",
       "    <tr>\n",
       "      <th>275</th>\n",
       "      <td>4</td>\n",
       "      <td>140.0</td>\n",
       "      <td>88.0</td>\n",
       "      <td>2870.0</td>\n",
       "      <td>18.1</td>\n",
       "      <td>80</td>\n",
       "      <td>1</td>\n",
       "      <td>Bin_4</td>\n",
       "      <td>(2696.0, 3045.0]</td>\n",
       "    </tr>\n",
       "    <tr>\n",
       "      <th>124</th>\n",
       "      <td>6</td>\n",
       "      <td>250.0</td>\n",
       "      <td>105.0</td>\n",
       "      <td>3459.0</td>\n",
       "      <td>16.0</td>\n",
       "      <td>75</td>\n",
       "      <td>1</td>\n",
       "      <td>Bin_6</td>\n",
       "      <td>(3394.0, 3743.0]</td>\n",
       "    </tr>\n",
       "    <tr>\n",
       "      <th>171</th>\n",
       "      <td>6</td>\n",
       "      <td>258.0</td>\n",
       "      <td>95.0</td>\n",
       "      <td>3193.0</td>\n",
       "      <td>17.8</td>\n",
       "      <td>76</td>\n",
       "      <td>1</td>\n",
       "      <td>Bin_5</td>\n",
       "      <td>(3045.0, 3394.0]</td>\n",
       "    </tr>\n",
       "    <tr>\n",
       "      <th>306</th>\n",
       "      <td>4</td>\n",
       "      <td>85.0</td>\n",
       "      <td>65.0</td>\n",
       "      <td>1975.0</td>\n",
       "      <td>19.4</td>\n",
       "      <td>81</td>\n",
       "      <td>3</td>\n",
       "      <td>Bin_1</td>\n",
       "      <td>(1648.999, 1998.0]</td>\n",
       "    </tr>\n",
       "    <tr>\n",
       "      <th>145</th>\n",
       "      <td>4</td>\n",
       "      <td>90.0</td>\n",
       "      <td>70.0</td>\n",
       "      <td>1937.0</td>\n",
       "      <td>14.0</td>\n",
       "      <td>75</td>\n",
       "      <td>2</td>\n",
       "      <td>Bin_1</td>\n",
       "      <td>(1648.999, 1998.0]</td>\n",
       "    </tr>\n",
       "    <tr>\n",
       "      <th>214</th>\n",
       "      <td>8</td>\n",
       "      <td>260.0</td>\n",
       "      <td>110.0</td>\n",
       "      <td>3365.0</td>\n",
       "      <td>15.5</td>\n",
       "      <td>78</td>\n",
       "      <td>1</td>\n",
       "      <td>Bin_5</td>\n",
       "      <td>(3045.0, 3394.0]</td>\n",
       "    </tr>\n",
       "    <tr>\n",
       "      <th>81</th>\n",
       "      <td>8</td>\n",
       "      <td>360.0</td>\n",
       "      <td>170.0</td>\n",
       "      <td>4654.0</td>\n",
       "      <td>13.0</td>\n",
       "      <td>73</td>\n",
       "      <td>1</td>\n",
       "      <td>Bin_9</td>\n",
       "      <td>(4441.0, 4790.0]</td>\n",
       "    </tr>\n",
       "    <tr>\n",
       "      <th>1</th>\n",
       "      <td>8</td>\n",
       "      <td>304.0</td>\n",
       "      <td>150.0</td>\n",
       "      <td>3433.0</td>\n",
       "      <td>12.0</td>\n",
       "      <td>70</td>\n",
       "      <td>1</td>\n",
       "      <td>Bin_6</td>\n",
       "      <td>(3394.0, 3743.0]</td>\n",
       "    </tr>\n",
       "    <tr>\n",
       "      <th>133</th>\n",
       "      <td>6</td>\n",
       "      <td>258.0</td>\n",
       "      <td>110.0</td>\n",
       "      <td>3730.0</td>\n",
       "      <td>19.0</td>\n",
       "      <td>75</td>\n",
       "      <td>1</td>\n",
       "      <td>Bin_6</td>\n",
       "      <td>(3394.0, 3743.0]</td>\n",
       "    </tr>\n",
       "  </tbody>\n",
       "</table>\n",
       "</div>"
      ],
      "text/plain": [
       "     cylinders  displacement  horsepower  weight  acceleration  model year  \\\n",
       "224          6         258.0       120.0  3410.0          15.1          78   \n",
       "275          4         140.0        88.0  2870.0          18.1          80   \n",
       "124          6         250.0       105.0  3459.0          16.0          75   \n",
       "171          6         258.0        95.0  3193.0          17.8          76   \n",
       "306          4          85.0        65.0  1975.0          19.4          81   \n",
       "145          4          90.0        70.0  1937.0          14.0          75   \n",
       "214          8         260.0       110.0  3365.0          15.5          78   \n",
       "81           8         360.0       170.0  4654.0          13.0          73   \n",
       "1            8         304.0       150.0  3433.0          12.0          70   \n",
       "133          6         258.0       110.0  3730.0          19.0          75   \n",
       "\n",
       "     origin weight_disc_labels         weight_disc  \n",
       "224       1              Bin_6    (3394.0, 3743.0]  \n",
       "275       1              Bin_4    (2696.0, 3045.0]  \n",
       "124       1              Bin_6    (3394.0, 3743.0]  \n",
       "171       1              Bin_5    (3045.0, 3394.0]  \n",
       "306       3              Bin_1  (1648.999, 1998.0]  \n",
       "145       2              Bin_1  (1648.999, 1998.0]  \n",
       "214       1              Bin_5    (3045.0, 3394.0]  \n",
       "81        1              Bin_9    (4441.0, 4790.0]  \n",
       "1         1              Bin_6    (3394.0, 3743.0]  \n",
       "133       1              Bin_6    (3394.0, 3743.0]  "
      ]
     },
     "execution_count": 17,
     "metadata": {},
     "output_type": "execute_result"
    }
   ],
   "source": [
    "# create binned weight/ discretise weight\n",
    "\n",
    "# create one column with labels\n",
    "X_train['weight_disc_labels'] = pd.cut(x=X_train['weight'],\n",
    "                                    bins=intervals,\n",
    "                                    labels=labels,\n",
    "                                    include_lowest=True)\n",
    "\n",
    "# and one with bin boundaries\n",
    "X_train['weight_disc'] = pd.cut(x=X_train['weight'],\n",
    "                             bins=intervals,\n",
    "                             include_lowest=True)\n",
    "\n",
    "X_train.head(10)"
   ]
  },
  {
   "cell_type": "markdown",
   "metadata": {},
   "source": [
    "We can see in the above output how by discretising using equal width, we placed each weight observation within one interval / bin. For example, weight = 3504.0.0 was placed in the 3394.0, 3743.0 interval, whereas 3015.0 was placed into the 2696.0, 3045.0 interval.\n",
    "\n",
    "When performing equal width discretisation, we guarantee that the intervals are all of the same lenght, however there won't necessarily be the same number of observations in each of the intervals. See below:"
   ]
  },
  {
   "cell_type": "code",
   "execution_count": 20,
   "metadata": {
    "scrolled": true
   },
   "outputs": [
    {
     "data": {
      "text/plain": [
       "weight_disc\n",
       "(1648.999, 1998.0]    29\n",
       "(1998.0, 2347.0]      47\n",
       "(2347.0, 2696.0]      44\n",
       "(2696.0, 3045.0]      29\n",
       "(3045.0, 3394.0]      24\n",
       "(3394.0, 3743.0]      22\n",
       "(3743.0, 4092.0]      11\n",
       "(4092.0, 4441.0]      23\n",
       "(4441.0, 4790.0]      15\n",
       "(4790.0, 5139.0]       2\n",
       "(5139.0, 5488.0]       1\n",
       "Name: weight, dtype: int64"
      ]
     },
     "execution_count": 20,
     "metadata": {},
     "output_type": "execute_result"
    }
   ],
   "source": [
    "X_train.groupby('weight_disc')['weight'].count()"
   ]
  },
  {
   "cell_type": "code",
   "execution_count": 23,
   "metadata": {},
   "outputs": [
    {
     "data": {
      "text/plain": [
       "Text(0, 0.5, 'Number of observations per bin')"
      ]
     },
     "execution_count": 23,
     "metadata": {},
     "output_type": "execute_result"
    },
    {
     "data": {
      "image/png": "[encoded data removed]",
      "text/plain": [
       "<Figure size 432x288 with 1 Axes>"
      ]
     },
     "metadata": {
      "needs_background": "light"
     },
     "output_type": "display_data"
    }
   ],
   "source": [
    "X_train.groupby('weight_disc')['weight'].count().plot.bar()\n",
    "plt.xticks(rotation=60)\n",
    "plt.ylabel('Number of observations per bin')"
   ]
  },
  {
   "cell_type": "markdown",
   "metadata": {},
   "source": [
    "very fwe observation are in the intervals 4790 to 5488"
   ]
  },
  {
   "cell_type": "markdown",
   "metadata": {},
   "source": [
    "\n",
    "Now, we can discretise weight in the test set, using the same interval boundaries that we calculated for the train set:"
   ]
  },
  {
   "cell_type": "code",
   "execution_count": 24,
   "metadata": {},
   "outputs": [
    {
     "name": "stderr",
     "output_type": "stream",
     "text": [
      "C:\\Users\\gusal\\Anaconda3\\lib\\site-packages\\ipykernel_launcher.py:7: SettingWithCopyWarning: \n",
      "A value is trying to be set on a copy of a slice from a DataFrame.\n",
      "Try using .loc[row_indexer,col_indexer] = value instead\n",
      "\n",
      "See the caveats in the documentation: https://pandas.pydata.org/pandas-docs/stable/user_guide/indexing.html#returning-a-view-versus-a-copy\n",
      "  import sys\n",
      "C:\\Users\\gusal\\Anaconda3\\lib\\site-packages\\ipykernel_launcher.py:12: SettingWithCopyWarning: \n",
      "A value is trying to be set on a copy of a slice from a DataFrame.\n",
      "Try using .loc[row_indexer,col_indexer] = value instead\n",
      "\n",
      "See the caveats in the documentation: https://pandas.pydata.org/pandas-docs/stable/user_guide/indexing.html#returning-a-view-versus-a-copy\n",
      "  if sys.path[0] == '':\n"
     ]
    },
    {
     "data": {
      "text/html": [
       "<div>\n",
       "<style scoped>\n",
       "    .dataframe tbody tr th:only-of-type {\n",
       "        vertical-align: middle;\n",
       "    }\n",
       "\n",
       "    .dataframe tbody tr th {\n",
       "        vertical-align: top;\n",
       "    }\n",
       "\n",
       "    .dataframe thead th {\n",
       "        text-align: right;\n",
       "    }\n",
       "</style>\n",
       "<table border=\"1\" class=\"dataframe\">\n",
       "  <thead>\n",
       "    <tr style=\"text-align: right;\">\n",
       "      <th></th>\n",
       "      <th>cylinders</th>\n",
       "      <th>displacement</th>\n",
       "      <th>horsepower</th>\n",
       "      <th>weight</th>\n",
       "      <th>acceleration</th>\n",
       "      <th>model year</th>\n",
       "      <th>origin</th>\n",
       "      <th>weight_disc_labels</th>\n",
       "      <th>weight_disc</th>\n",
       "    </tr>\n",
       "  </thead>\n",
       "  <tbody>\n",
       "    <tr>\n",
       "      <th>6</th>\n",
       "      <td>8</td>\n",
       "      <td>340.0</td>\n",
       "      <td>160.0</td>\n",
       "      <td>3609.0</td>\n",
       "      <td>8.0</td>\n",
       "      <td>70</td>\n",
       "      <td>1</td>\n",
       "      <td>Bin_6</td>\n",
       "      <td>(3394.0, 3743.0]</td>\n",
       "    </tr>\n",
       "    <tr>\n",
       "      <th>140</th>\n",
       "      <td>4</td>\n",
       "      <td>140.0</td>\n",
       "      <td>78.0</td>\n",
       "      <td>2592.0</td>\n",
       "      <td>18.5</td>\n",
       "      <td>75</td>\n",
       "      <td>1</td>\n",
       "      <td>Bin_3</td>\n",
       "      <td>(2347.0, 2696.0]</td>\n",
       "    </tr>\n",
       "    <tr>\n",
       "      <th>299</th>\n",
       "      <td>4</td>\n",
       "      <td>156.0</td>\n",
       "      <td>92.0</td>\n",
       "      <td>2620.0</td>\n",
       "      <td>14.4</td>\n",
       "      <td>81</td>\n",
       "      <td>1</td>\n",
       "      <td>Bin_3</td>\n",
       "      <td>(2347.0, 2696.0]</td>\n",
       "    </tr>\n",
       "    <tr>\n",
       "      <th>217</th>\n",
       "      <td>6</td>\n",
       "      <td>231.0</td>\n",
       "      <td>105.0</td>\n",
       "      <td>3535.0</td>\n",
       "      <td>19.2</td>\n",
       "      <td>78</td>\n",
       "      <td>1</td>\n",
       "      <td>Bin_6</td>\n",
       "      <td>(3394.0, 3743.0]</td>\n",
       "    </tr>\n",
       "    <tr>\n",
       "      <th>90</th>\n",
       "      <td>8</td>\n",
       "      <td>350.0</td>\n",
       "      <td>145.0</td>\n",
       "      <td>4082.0</td>\n",
       "      <td>13.0</td>\n",
       "      <td>73</td>\n",
       "      <td>1</td>\n",
       "      <td>Bin_7</td>\n",
       "      <td>(3743.0, 4092.0]</td>\n",
       "    </tr>\n",
       "    <tr>\n",
       "      <th>226</th>\n",
       "      <td>6</td>\n",
       "      <td>231.0</td>\n",
       "      <td>165.0</td>\n",
       "      <td>3445.0</td>\n",
       "      <td>13.4</td>\n",
       "      <td>78</td>\n",
       "      <td>1</td>\n",
       "      <td>Bin_6</td>\n",
       "      <td>(3394.0, 3743.0]</td>\n",
       "    </tr>\n",
       "    <tr>\n",
       "      <th>114</th>\n",
       "      <td>4</td>\n",
       "      <td>97.0</td>\n",
       "      <td>78.0</td>\n",
       "      <td>2300.0</td>\n",
       "      <td>14.5</td>\n",
       "      <td>74</td>\n",
       "      <td>2</td>\n",
       "      <td>Bin_2</td>\n",
       "      <td>(1998.0, 2347.0]</td>\n",
       "    </tr>\n",
       "    <tr>\n",
       "      <th>60</th>\n",
       "      <td>4</td>\n",
       "      <td>96.0</td>\n",
       "      <td>69.0</td>\n",
       "      <td>2189.0</td>\n",
       "      <td>18.0</td>\n",
       "      <td>72</td>\n",
       "      <td>2</td>\n",
       "      <td>Bin_2</td>\n",
       "      <td>(1998.0, 2347.0]</td>\n",
       "    </tr>\n",
       "    <tr>\n",
       "      <th>37</th>\n",
       "      <td>4</td>\n",
       "      <td>116.0</td>\n",
       "      <td>90.0</td>\n",
       "      <td>2123.0</td>\n",
       "      <td>14.0</td>\n",
       "      <td>71</td>\n",
       "      <td>2</td>\n",
       "      <td>Bin_2</td>\n",
       "      <td>(1998.0, 2347.0]</td>\n",
       "    </tr>\n",
       "    <tr>\n",
       "      <th>293</th>\n",
       "      <td>6</td>\n",
       "      <td>168.0</td>\n",
       "      <td>132.0</td>\n",
       "      <td>2910.0</td>\n",
       "      <td>11.4</td>\n",
       "      <td>80</td>\n",
       "      <td>3</td>\n",
       "      <td>Bin_4</td>\n",
       "      <td>(2696.0, 3045.0]</td>\n",
       "    </tr>\n",
       "  </tbody>\n",
       "</table>\n",
       "</div>"
      ],
      "text/plain": [
       "     cylinders  displacement  horsepower  weight  acceleration  model year  \\\n",
       "6            8         340.0       160.0  3609.0           8.0          70   \n",
       "140          4         140.0        78.0  2592.0          18.5          75   \n",
       "299          4         156.0        92.0  2620.0          14.4          81   \n",
       "217          6         231.0       105.0  3535.0          19.2          78   \n",
       "90           8         350.0       145.0  4082.0          13.0          73   \n",
       "226          6         231.0       165.0  3445.0          13.4          78   \n",
       "114          4          97.0        78.0  2300.0          14.5          74   \n",
       "60           4          96.0        69.0  2189.0          18.0          72   \n",
       "37           4         116.0        90.0  2123.0          14.0          71   \n",
       "293          6         168.0       132.0  2910.0          11.4          80   \n",
       "\n",
       "     origin weight_disc_labels       weight_disc  \n",
       "6         1              Bin_6  (3394.0, 3743.0]  \n",
       "140       1              Bin_3  (2347.0, 2696.0]  \n",
       "299       1              Bin_3  (2347.0, 2696.0]  \n",
       "217       1              Bin_6  (3394.0, 3743.0]  \n",
       "90        1              Bin_7  (3743.0, 4092.0]  \n",
       "226       1              Bin_6  (3394.0, 3743.0]  \n",
       "114       2              Bin_2  (1998.0, 2347.0]  \n",
       "60        2              Bin_2  (1998.0, 2347.0]  \n",
       "37        2              Bin_2  (1998.0, 2347.0]  \n",
       "293       3              Bin_4  (2696.0, 3045.0]  "
      ]
     },
     "execution_count": 24,
     "metadata": {},
     "output_type": "execute_result"
    }
   ],
   "source": [
    "# create binned weight/ discretise weight\n",
    "\n",
    "# create one column with labels\n",
    "X_test['weight_disc_labels'] = pd.cut(x=X_test['weight'],\n",
    "                                    bins=intervals,\n",
    "                                    labels=labels,\n",
    "                                    include_lowest=True)\n",
    "\n",
    "# and one with bin boundaries\n",
    "X_test['weight_disc'] = pd.cut(x=X_test['weight'],\n",
    "                             bins=intervals,\n",
    "                             include_lowest=True)\n",
    "\n",
    "X_test.head(10)"
   ]
  },
  {
   "cell_type": "code",
   "execution_count": 25,
   "metadata": {},
   "outputs": [
    {
     "data": {
      "text/plain": [
       "Text(0, 0.5, 'Number of observations per bin')"
      ]
     },
     "execution_count": 25,
     "metadata": {},
     "output_type": "execute_result"
    },
    {
     "data": {
      "image/png": "[encoded data removed]",
      "text/plain": [
       "<Figure size 432x288 with 1 Axes>"
      ]
     },
     "metadata": {
      "needs_background": "light"
     },
     "output_type": "display_data"
    }
   ],
   "source": [
    "# if the distributions in train and test set are similar, we should expect similar propotion of\n",
    "# observations in the different intervals in the train and test set\n",
    "# let's see that below\n",
    "\n",
    "t1 = X_train.groupby(['weight_disc'])['weight'].count() / len(X_train)\n",
    "t2 = X_test.groupby(['weight_disc'])['weight'].count() / len(X_test)\n",
    "\n",
    "tmp = pd.concat([t1, t2], axis=1)\n",
    "tmp.columns = ['train', 'test']\n",
    "tmp.plot.bar()\n",
    "plt.xticks(rotation=45)\n",
    "plt.ylabel('Number of observations per bin')"
   ]
  },
  {
   "cell_type": "markdown",
   "metadata": {},
   "source": [
    "there is not data test in the last interval 5139-5488. In this case we should combine the last two intervals"
   ]
  },
  {
   "cell_type": "markdown",
   "metadata": {},
   "source": [
    "## Equal width discretisation with Feature-Engine"
   ]
  },
  {
   "cell_type": "code",
   "execution_count": 40,
   "metadata": {},
   "outputs": [
    {
     "data": {
      "text/plain": [
       "((247, 7), (106, 7))"
      ]
     },
     "execution_count": 40,
     "metadata": {},
     "output_type": "execute_result"
    }
   ],
   "source": [
    "# Let's separate into train and test set\n",
    "\n",
    "X_train, X_test, y_train, y_test = train_test_split(\n",
    "    inputs,\n",
    "    target,\n",
    "    test_size=0.3,\n",
    "    random_state=0)\n",
    "\n",
    "X_train.shape, X_test.shape"
   ]
  },
  {
   "cell_type": "code",
   "execution_count": 41,
   "metadata": {},
   "outputs": [
    {
     "data": {
      "text/plain": [
       "cylinders         int64\n",
       "displacement    float64\n",
       "horsepower      float64\n",
       "weight          float64\n",
       "acceleration    float64\n",
       "model year        int64\n",
       "origin            int64\n",
       "dtype: object"
      ]
     },
     "execution_count": 41,
     "metadata": {},
     "output_type": "execute_result"
    }
   ],
   "source": [
    "X_train.dtypes"
   ]
  },
  {
   "cell_type": "code",
   "execution_count": 42,
   "metadata": {},
   "outputs": [
    {
     "data": {
      "text/plain": [
       "EqualWidthDiscretiser(bins=10, return_object=False,\n",
       "                      variables=['displacement', 'weight', 'horsepower',\n",
       "                                 'acceleration'])"
      ]
     },
     "execution_count": 42,
     "metadata": {},
     "output_type": "execute_result"
    }
   ],
   "source": [
    "# with feature engine we can automate the process for many variables\n",
    "# in one line of code\n",
    "\n",
    "disc = EqualWidthDiscretiser(bins=10, variables = ['displacement','weight', 'horsepower','acceleration'])\n",
    "\n",
    "disc.fit(X_train)"
   ]
  },
  {
   "cell_type": "code",
   "execution_count": 43,
   "metadata": {
    "scrolled": true
   },
   "outputs": [
    {
     "data": {
      "text/plain": [
       "{'displacement': [-inf,\n",
       "  108.5,\n",
       "  147.0,\n",
       "  185.5,\n",
       "  224.0,\n",
       "  262.5,\n",
       "  301.0,\n",
       "  339.5,\n",
       "  378.0,\n",
       "  416.5,\n",
       "  inf],\n",
       " 'weight': [-inf,\n",
       "  1998.1,\n",
       "  2347.2,\n",
       "  2696.3,\n",
       "  3045.4,\n",
       "  3394.5,\n",
       "  3743.6000000000004,\n",
       "  4092.7000000000003,\n",
       "  4441.8,\n",
       "  4790.9,\n",
       "  inf],\n",
       " 'horsepower': [-inf,\n",
       "  64.4,\n",
       "  82.8,\n",
       "  101.19999999999999,\n",
       "  119.6,\n",
       "  138.0,\n",
       "  156.39999999999998,\n",
       "  174.79999999999998,\n",
       "  193.2,\n",
       "  211.6,\n",
       "  inf],\n",
       " 'acceleration': [-inf,\n",
       "  10.13,\n",
       "  11.76,\n",
       "  13.39,\n",
       "  15.02,\n",
       "  16.65,\n",
       "  18.28,\n",
       "  19.91,\n",
       "  21.54,\n",
       "  23.17,\n",
       "  inf]}"
      ]
     },
     "execution_count": 43,
     "metadata": {},
     "output_type": "execute_result"
    }
   ],
   "source": [
    "# in the binner dict, we can see the limits of the intervals. For weight\n",
    "# the value increases aproximately 349 from one bin to the next.\n",
    "\n",
    "# for horsepower it increases in around 18 from one interval to the \n",
    "# next, but it increases always the same value, aka, same width.\n",
    "\n",
    "disc.binner_dict_"
   ]
  },
  {
   "cell_type": "code",
   "execution_count": 44,
   "metadata": {},
   "outputs": [],
   "source": [
    "# transform train and text\n",
    "\n",
    "train_t = disc.transform(X_train)\n",
    "test_t = disc.transform(X_test)"
   ]
  },
  {
   "cell_type": "code",
   "execution_count": 45,
   "metadata": {},
   "outputs": [
    {
     "data": {
      "text/html": [
       "<div>\n",
       "<style scoped>\n",
       "    .dataframe tbody tr th:only-of-type {\n",
       "        vertical-align: middle;\n",
       "    }\n",
       "\n",
       "    .dataframe tbody tr th {\n",
       "        vertical-align: top;\n",
       "    }\n",
       "\n",
       "    .dataframe thead th {\n",
       "        text-align: right;\n",
       "    }\n",
       "</style>\n",
       "<table border=\"1\" class=\"dataframe\">\n",
       "  <thead>\n",
       "    <tr style=\"text-align: right;\">\n",
       "      <th></th>\n",
       "      <th>cylinders</th>\n",
       "      <th>displacement</th>\n",
       "      <th>horsepower</th>\n",
       "      <th>weight</th>\n",
       "      <th>acceleration</th>\n",
       "      <th>model year</th>\n",
       "      <th>origin</th>\n",
       "    </tr>\n",
       "  </thead>\n",
       "  <tbody>\n",
       "    <tr>\n",
       "      <th>224</th>\n",
       "      <td>6</td>\n",
       "      <td>4</td>\n",
       "      <td>4</td>\n",
       "      <td>5</td>\n",
       "      <td>4</td>\n",
       "      <td>78</td>\n",
       "      <td>1</td>\n",
       "    </tr>\n",
       "    <tr>\n",
       "      <th>275</th>\n",
       "      <td>4</td>\n",
       "      <td>1</td>\n",
       "      <td>2</td>\n",
       "      <td>3</td>\n",
       "      <td>5</td>\n",
       "      <td>80</td>\n",
       "      <td>1</td>\n",
       "    </tr>\n",
       "    <tr>\n",
       "      <th>124</th>\n",
       "      <td>6</td>\n",
       "      <td>4</td>\n",
       "      <td>3</td>\n",
       "      <td>5</td>\n",
       "      <td>4</td>\n",
       "      <td>75</td>\n",
       "      <td>1</td>\n",
       "    </tr>\n",
       "    <tr>\n",
       "      <th>171</th>\n",
       "      <td>6</td>\n",
       "      <td>4</td>\n",
       "      <td>2</td>\n",
       "      <td>4</td>\n",
       "      <td>5</td>\n",
       "      <td>76</td>\n",
       "      <td>1</td>\n",
       "    </tr>\n",
       "    <tr>\n",
       "      <th>306</th>\n",
       "      <td>4</td>\n",
       "      <td>0</td>\n",
       "      <td>1</td>\n",
       "      <td>0</td>\n",
       "      <td>6</td>\n",
       "      <td>81</td>\n",
       "      <td>3</td>\n",
       "    </tr>\n",
       "  </tbody>\n",
       "</table>\n",
       "</div>"
      ],
      "text/plain": [
       "     cylinders  displacement  horsepower  weight  acceleration  model year  \\\n",
       "224          6             4           4       5             4          78   \n",
       "275          4             1           2       3             5          80   \n",
       "124          6             4           3       5             4          75   \n",
       "171          6             4           2       4             5          76   \n",
       "306          4             0           1       0             6          81   \n",
       "\n",
       "     origin  \n",
       "224       1  \n",
       "275       1  \n",
       "124       1  \n",
       "171       1  \n",
       "306       3  "
      ]
     },
     "execution_count": 45,
     "metadata": {},
     "output_type": "execute_result"
    }
   ],
   "source": [
    "train_t.head()"
   ]
  },
  {
   "cell_type": "code",
   "execution_count": 47,
   "metadata": {},
   "outputs": [
    {
     "data": {
      "text/plain": [
       "Text(0, 0.5, 'Number of observations per bin')"
      ]
     },
     "execution_count": 47,
     "metadata": {},
     "output_type": "execute_result"
    },
    {
     "data": {
      "image/png": "[encoded data removed]",
      "text/plain": [
       "<Figure size 432x288 with 1 Axes>"
      ]
     },
     "metadata": {
      "needs_background": "light"
     },
     "output_type": "display_data"
    }
   ],
   "source": [
    "# if the distributions in train and test set are similar, we should expect similar propotion of\n",
    "# observations in the different intervals in the train and test set\n",
    "# let's see that below\n",
    "\n",
    "t1 = train_t.groupby(['displacement'])['displacement'].count() / len(train_t)\n",
    "t2 = test_t.groupby(['displacement'])['displacement'].count() / len(test_t)\n",
    "\n",
    "tmp = pd.concat([t1, t2], axis=1)\n",
    "tmp.columns = ['train', 'test']\n",
    "tmp.plot.bar()\n",
    "plt.xticks(rotation=45)\n",
    "plt.ylabel('Number of observations per bin')"
   ]
  },
  {
   "cell_type": "markdown",
   "metadata": {},
   "source": [
    "interval 5 does not have test data, it should combined with interval 6"
   ]
  },
  {
   "cell_type": "code",
   "execution_count": 46,
   "metadata": {},
   "outputs": [
    {
     "data": {
      "text/plain": [
       "Text(0, 0.5, 'Number of observations per bin')"
      ]
     },
     "execution_count": 46,
     "metadata": {},
     "output_type": "execute_result"
    },
    {
     "data": {
      "image/png": "[encoded data removed]",
      "text/plain": [
       "<Figure size 432x288 with 1 Axes>"
      ]
     },
     "metadata": {
      "needs_background": "light"
     },
     "output_type": "display_data"
    }
   ],
   "source": [
    "# if the distributions in train and test set are similar, we should expect similar propotion of\n",
    "# observations in the different intervals in the train and test set\n",
    "# let's see that below\n",
    "\n",
    "t1 = train_t.groupby(['weight'])['weight'].count() / len(train_t)\n",
    "t2 = test_t.groupby(['weight'])['weight'].count() / len(test_t)\n",
    "\n",
    "tmp = pd.concat([t1, t2], axis=1)\n",
    "tmp.columns = ['train', 'test']\n",
    "tmp.plot.bar()\n",
    "plt.xticks(rotation=45)\n",
    "plt.ylabel('Number of observations per bin')"
   ]
  },
  {
   "cell_type": "markdown",
   "metadata": {
    "collapsed": true
   },
   "source": [
    "We can see quite clearly, that equal width discretisation does not improve the value spread. The original variable weight was skewed, and the discrete variable is also skewed. at least the test data is included in all the intervals\n",
    "\n",
    "## Equal width discretisation with Scikit-learn"
   ]
  },
  {
   "cell_type": "code",
   "execution_count": 48,
   "metadata": {},
   "outputs": [
    {
     "data": {
      "text/plain": [
       "((247, 7), (106, 7))"
      ]
     },
     "execution_count": 48,
     "metadata": {},
     "output_type": "execute_result"
    }
   ],
   "source": [
    "# Let's separate into train and test set\n",
    "\n",
    "X_train, X_test, y_train, y_test = train_test_split(\n",
    "    inputs,\n",
    "    target,\n",
    "    test_size=0.3,\n",
    "    random_state=0)\n",
    "\n",
    "X_train.shape, X_test.shape"
   ]
  },
  {
   "cell_type": "code",
   "execution_count": 49,
   "metadata": {},
   "outputs": [
    {
     "data": {
      "text/plain": [
       "KBinsDiscretizer(encode='ordinal', n_bins=10, strategy='uniform')"
      ]
     },
     "execution_count": 49,
     "metadata": {},
     "output_type": "execute_result"
    }
   ],
   "source": [
    "disc = KBinsDiscretizer(n_bins=10, encode='ordinal', strategy='uniform')\n",
    "\n",
    "disc.fit(X_train[['displacement','weight', 'horsepower','acceleration']])"
   ]
  },
  {
   "cell_type": "code",
   "execution_count": 50,
   "metadata": {},
   "outputs": [
    {
     "data": {
      "text/plain": [
       "array([array([ 70. , 108.5, 147. , 185.5, 224. , 262.5, 301. , 339.5, 378. ,\n",
       "       416.5, 455. ]),\n",
       "       array([1649. , 1998.1, 2347.2, 2696.3, 3045.4, 3394.5, 3743.6, 4092.7,\n",
       "       4441.8, 4790.9, 5140. ]),\n",
       "       array([ 46. ,  64.4,  82.8, 101.2, 119.6, 138. , 156.4, 174.8, 193.2,\n",
       "       211.6, 230. ]),\n",
       "       array([ 8.5 , 10.13, 11.76, 13.39, 15.02, 16.65, 18.28, 19.91, 21.54,\n",
       "       23.17, 24.8 ])], dtype=object)"
      ]
     },
     "execution_count": 50,
     "metadata": {},
     "output_type": "execute_result"
    }
   ],
   "source": [
    "disc.bin_edges_"
   ]
  },
  {
   "cell_type": "code",
   "execution_count": 51,
   "metadata": {},
   "outputs": [
    {
     "data": {
      "text/html": [
       "<div>\n",
       "<style scoped>\n",
       "    .dataframe tbody tr th:only-of-type {\n",
       "        vertical-align: middle;\n",
       "    }\n",
       "\n",
       "    .dataframe tbody tr th {\n",
       "        vertical-align: top;\n",
       "    }\n",
       "\n",
       "    .dataframe thead th {\n",
       "        text-align: right;\n",
       "    }\n",
       "</style>\n",
       "<table border=\"1\" class=\"dataframe\">\n",
       "  <thead>\n",
       "    <tr style=\"text-align: right;\">\n",
       "      <th></th>\n",
       "      <th>displacement</th>\n",
       "      <th>weight</th>\n",
       "      <th>horsepower</th>\n",
       "      <th>acceleration</th>\n",
       "    </tr>\n",
       "  </thead>\n",
       "  <tbody>\n",
       "    <tr>\n",
       "      <th>0</th>\n",
       "      <td>4.0</td>\n",
       "      <td>5.0</td>\n",
       "      <td>4.0</td>\n",
       "      <td>4.0</td>\n",
       "    </tr>\n",
       "    <tr>\n",
       "      <th>1</th>\n",
       "      <td>1.0</td>\n",
       "      <td>3.0</td>\n",
       "      <td>2.0</td>\n",
       "      <td>5.0</td>\n",
       "    </tr>\n",
       "    <tr>\n",
       "      <th>2</th>\n",
       "      <td>4.0</td>\n",
       "      <td>5.0</td>\n",
       "      <td>3.0</td>\n",
       "      <td>4.0</td>\n",
       "    </tr>\n",
       "    <tr>\n",
       "      <th>3</th>\n",
       "      <td>4.0</td>\n",
       "      <td>4.0</td>\n",
       "      <td>2.0</td>\n",
       "      <td>5.0</td>\n",
       "    </tr>\n",
       "    <tr>\n",
       "      <th>4</th>\n",
       "      <td>0.0</td>\n",
       "      <td>0.0</td>\n",
       "      <td>1.0</td>\n",
       "      <td>6.0</td>\n",
       "    </tr>\n",
       "  </tbody>\n",
       "</table>\n",
       "</div>"
      ],
      "text/plain": [
       "   displacement  weight  horsepower  acceleration\n",
       "0           4.0     5.0         4.0           4.0\n",
       "1           1.0     3.0         2.0           5.0\n",
       "2           4.0     5.0         3.0           4.0\n",
       "3           4.0     4.0         2.0           5.0\n",
       "4           0.0     0.0         1.0           6.0"
      ]
     },
     "execution_count": 51,
     "metadata": {},
     "output_type": "execute_result"
    }
   ],
   "source": [
    "train_t = disc.transform(X_train[['displacement','weight', 'horsepower','acceleration']])\n",
    "\n",
    "train_t = pd.DataFrame(train_t, columns = ['displacement','weight', 'horsepower','acceleration'])\n",
    "\n",
    "train_t.head()"
   ]
  },
  {
   "cell_type": "code",
   "execution_count": 52,
   "metadata": {},
   "outputs": [],
   "source": [
    "test_t = disc.transform(X_test[['displacement','weight', 'horsepower','acceleration']])\n",
    "\n",
    "test_t = pd.DataFrame(test_t, columns = ['displacement','weight', 'horsepower','acceleration'])"
   ]
  },
  {
   "cell_type": "code",
   "execution_count": 53,
   "metadata": {},
   "outputs": [
    {
     "data": {
      "text/plain": [
       "Text(0, 0.5, 'Number of observations per bin')"
      ]
     },
     "execution_count": 53,
     "metadata": {},
     "output_type": "execute_result"
    },
    {
     "data": {
      "image/png": "[encoded data removed]",
      "text/plain": [
       "<Figure size 432x288 with 1 Axes>"
      ]
     },
     "metadata": {
      "needs_background": "light"
     },
     "output_type": "display_data"
    }
   ],
   "source": [
    "t1 = train_t.groupby(['displacement'])['displacement'].count() / len(train_t)\n",
    "t2 = test_t.groupby(['displacement'])['displacement'].count() / len(test_t)\n",
    "\n",
    "tmp = pd.concat([t1, t2], axis=1)\n",
    "tmp.columns = ['train', 'test']\n",
    "tmp.plot.bar()\n",
    "plt.xticks(rotation=0)\n",
    "plt.ylabel('Number of observations per bin')"
   ]
  },
  {
   "cell_type": "markdown",
   "metadata": {},
   "source": [
    "there is not test data in the interval 5"
   ]
  },
  {
   "cell_type": "code",
   "execution_count": 54,
   "metadata": {},
   "outputs": [
    {
     "data": {
      "text/plain": [
       "Text(0, 0.5, 'Number of observations per bin')"
      ]
     },
     "execution_count": 54,
     "metadata": {},
     "output_type": "execute_result"
    },
    {
     "data": {
      "image/png": "[encoded data removed]",
      "text/plain": [
       "<Figure size 432x288 with 1 Axes>"
      ]
     },
     "metadata": {
      "needs_background": "light"
     },
     "output_type": "display_data"
    }
   ],
   "source": [
    "t1 = train_t.groupby(['horsepower'])['horsepower'].count() / len(train_t)\n",
    "t2 = test_t.groupby(['horsepower'])['horsepower'].count() / len(test_t)\n",
    "\n",
    "tmp = pd.concat([t1, t2], axis=1)\n",
    "tmp.columns = ['train', 'test']\n",
    "tmp.plot.bar()\n",
    "plt.xticks(rotation=0)\n",
    "plt.ylabel('Number of observations per bin')"
   ]
  },
  {
   "cell_type": "markdown",
   "metadata": {},
   "source": [
    "there is not test data in the interval 9"
   ]
  },
  {
   "cell_type": "code",
   "execution_count": null,
   "metadata": {},
   "outputs": [],
   "source": []
  },
  {
   "cell_type": "code",
   "execution_count": null,
   "metadata": {},
   "outputs": [],
   "source": []
  },
  {
   "cell_type": "code",
   "execution_count": null,
   "metadata": {},
   "outputs": [],
   "source": []
  },
  {
   "cell_type": "code",
   "execution_count": null,
   "metadata": {},
   "outputs": [],
   "source": []
  },
  {
   "cell_type": "code",
   "execution_count": null,
   "metadata": {},
   "outputs": [],
   "source": []
  },
  {
   "cell_type": "code",
   "execution_count": null,
   "metadata": {},
   "outputs": [],
   "source": []
  },
  {
   "cell_type": "code",
   "execution_count": null,
   "metadata": {},
   "outputs": [],
   "source": []
  },
  {
   "cell_type": "code",
   "execution_count": null,
   "metadata": {},
   "outputs": [],
   "source": []
  },
  {
   "cell_type": "code",
   "execution_count": null,
   "metadata": {},
   "outputs": [],
   "source": []
  }
 ],
 "metadata": {
  "kernelspec": {
   "display_name": "Python 3",
   "language": "python",
   "name": "python3"
  },
  "language_info": {
   "codemirror_mode": {
    "name": "ipython",
    "version": 3
   },
   "file_extension": ".py",
   "mimetype": "text/x-python",
   "name": "python",
   "nbconvert_exporter": "python",
   "pygments_lexer": "ipython3",
   "version": "3.7.4"
  }
 },
 "nbformat": 4,
 "nbformat_minor": 2
}
